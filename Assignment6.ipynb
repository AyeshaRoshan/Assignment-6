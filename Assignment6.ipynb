{
 "cells": [
  {
   "cell_type": "code",
   "execution_count": 5,
   "metadata": {},
   "outputs": [
    {
     "name": "stdout",
     "output_type": "stream",
     "text": [
      "Suzuki\n",
      "42301\n",
      "Red\n",
      "New\n"
     ]
    }
   ],
   "source": [
    "import datetime # we will use this for date objects\n",
    "\n",
    "class Car:\n",
    "\n",
    "    def __init__(self, name, model, color, brand):\n",
    "        self.name = name\n",
    "        self.model = model\n",
    "        self.color = color\n",
    "\n",
    "        self.brand = brand\n",
    "       \n",
    "\n",
    "Car = Car(\n",
    "    \"Suzuki\",\n",
    "    \n",
    "    \n",
    "    \"42301\",\n",
    "    \"Red\",\n",
    "    \"New\"\n",
    ")\n",
    "\n",
    "print(Car.name)\n",
    "print(Car.model)\n",
    "print(Car.color)\n",
    "print(Car.brand)"
   ]
  },
  {
   "cell_type": "code",
   "execution_count": 3,
   "metadata": {},
   "outputs": [],
   "source": []
  },
  {
   "cell_type": "code",
   "execution_count": null,
   "metadata": {},
   "outputs": [],
   "source": []
  }
 ],
 "metadata": {
  "kernelspec": {
   "display_name": "Python 3",
   "language": "python",
   "name": "python3"
  },
  "language_info": {
   "codemirror_mode": {
    "name": "ipython",
    "version": 3
   },
   "file_extension": ".py",
   "mimetype": "text/x-python",
   "name": "python",
   "nbconvert_exporter": "python",
   "pygments_lexer": "ipython3",
   "version": "3.7.4"
  }
 },
 "nbformat": 4,
 "nbformat_minor": 2
}
